{
  "nbformat": 4,
  "nbformat_minor": 0,
  "metadata": {
    "colab": {
      "provenance": [],
      "authorship_tag": "ABX9TyOLDshT7s7sdiptOfvWjtQF",
      "include_colab_link": true
    },
    "kernelspec": {
      "name": "python3",
      "display_name": "Python 3"
    },
    "language_info": {
      "name": "python"
    }
  },
  "cells": [
    {
      "cell_type": "markdown",
      "metadata": {
        "id": "view-in-github",
        "colab_type": "text"
      },
      "source": [
        "<a href=\"https://colab.research.google.com/github/AzisilhamK463/PCVK_2023/blob/main/week3.ipynb\" target=\"_parent\"><img src=\"https://colab.research.google.com/assets/colab-badge.svg\" alt=\"Open In Colab\"/></a>"
      ]
    },
    {
      "cell_type": "code",
      "execution_count": 2,
      "metadata": {
        "id": "hOXX4avhuL1K",
        "colab": {
          "base_uri": "https://localhost:8080/"
        },
        "outputId": "561c07ab-6329-47d8-e522-fb2e13fd63c9"
      },
      "outputs": [
        {
          "output_type": "stream",
          "name": "stdout",
          "text": [
            "Mounted at /content/drive/\n"
          ]
        }
      ],
      "source": [
        "from google.colab import drive\n",
        "drive.mount('/content/drive/')\n"
      ]
    },
    {
      "cell_type": "code",
      "source": [
        "import"
      ],
      "metadata": {
        "id": "E2sqqcxhxKRo"
      },
      "execution_count": null,
      "outputs": []
    },
    {
      "cell_type": "code",
      "source": [
        "print(' Mengubah tingkat kecerahan citra ')\n",
        "print('----------------------------------')\n",
        "try:\n",
        "  brightness=int(input('Masukkan nilai kecerahan: '))\n",
        "except ValueError:\n",
        "    print('Error, not a number')\n",
        "\n",
        "original= cv.imread()"
      ],
      "metadata": {
        "id": "C9vJEwfUv5XJ"
      },
      "execution_count": null,
      "outputs": []
    }
  ]
}